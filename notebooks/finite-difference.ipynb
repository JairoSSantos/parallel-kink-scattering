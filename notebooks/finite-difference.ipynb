{
 "cells": [
  {
   "cell_type": "code",
   "execution_count": 3,
   "metadata": {},
   "outputs": [],
   "source": [
    "import numpy as np\n",
    "import sympy as sp\n",
    "import matplotlib.pyplot as plt"
   ]
  },
  {
   "cell_type": "code",
   "execution_count": 2,
   "metadata": {},
   "outputs": [],
   "source": [
    "from math import factorial\n",
    "\n",
    "def coefficients(m, alpha):\n",
    "    alpha = np.stack(alpha)\n",
    "    p = len(alpha)\n",
    "    A = np.zeros((p, p))\n",
    "    A[0].fill(1)\n",
    "    for k in range(1, p):\n",
    "        A[k] = alpha**k\n",
    "    return factorial(m)*np.linalg.inv(A)[:, m]"
   ]
  },
  {
   "cell_type": "code",
   "execution_count": 8,
   "metadata": {},
   "outputs": [],
   "source": [
    "from dataclasses import dataclass\n",
    "\n",
    "@dataclass\n",
    "class Diff:\n",
    "    m: int\n",
    "    n: int\n",
    "    p: int\n",
    "    h: float\n",
    "\n",
    "    def __post_init__(self):\n",
    "        assert self.n >= 2*self.p\n",
    "        P = np.arange(self.p)[np.newaxis].repeat(self.p, axis=0)\n",
    "        l = int(self.p/2)\n",
    "        d = int(l*2 != self.p)\n",
    "        C = np.stack([coefficients(self.m, alpha) for alpha in P - P.T])\n",
    "        M = np.zeros((self.n - 2*l, self.n))\n",
    "        for i in range(self.n - 2*l):\n",
    "            M[i, i:i+self.p] = C[l]\n",
    "        self.M = np.c_[ \n",
    "            '0',\n",
    "            np.pad(C[:l], [(0, 0), (0, n - self.p)]),\n",
    "            M,\n",
    "            np.pad(C[l+d:], [(0, 0), (n - self.p, 0)]),\n",
    "        ]/(self.h**self.m)\n",
    "    \n",
    "    def __call__(self, y):\n",
    "        return self.M.dot(y)"
   ]
  },
  {
   "cell_type": "code",
   "execution_count": 124,
   "metadata": {},
   "outputs": [],
   "source": [
    "class Lattice:\n",
    "    def __init__(self, *setup):\n",
    "        self.ranges = [np.arange(xl, xr, dx) for xl, xr, dx in setup]\n",
    "    \n",
    "    @property\n",
    "    def shape(self):\n",
    "        return tuple(map(len, self.ranges))\n",
    "    \n",
    "    @property\n",
    "    def grid(self):\n",
    "        return np.stack(np.meshgrid(*self.ranges), axis=-1)\n",
    "    \n",
    "    def loc(self, x, axis=0):\n",
    "        return np.abs(self.ranges[axis] - x).argmin()\n",
    "    \n",
    "    def at(self, *locs):\n",
    "        return tuple((\n",
    "            self.loc(x, axis=i) if not x in (Ellipsis, None) else x \n",
    "            for i, x in enumerate(locs)\n",
    "        ))\n",
    "    \n",
    "    def window(self, *lims):\n",
    "        return tuple((\n",
    "            slice(self.loc(lim[0], axis=i), self.loc(lim[1], axis=i)) if not lim in (Ellipsis, None) else lim \n",
    "            for i, lim in enumerate(lims)\n",
    "        ))"
   ]
  },
  {
   "cell_type": "code",
   "execution_count": 115,
   "metadata": {},
   "outputs": [
    {
     "data": {
      "text/plain": [
       "(20, 20, 20, 3)"
      ]
     },
     "execution_count": 115,
     "metadata": {},
     "output_type": "execute_result"
    }
   ],
   "source": [
    "lat = Lattice(*[(-1, 1, 0.1)]*3)\n",
    "lat.grid.shape"
   ]
  },
  {
   "cell_type": "code",
   "execution_count": 47,
   "metadata": {},
   "outputs": [],
   "source": [
    "y = np.random.random(lat.shape)"
   ]
  },
  {
   "cell_type": "code",
   "execution_count": 76,
   "metadata": {},
   "outputs": [
    {
     "data": {
      "text/plain": [
       "(20, 20)"
      ]
     },
     "execution_count": 76,
     "metadata": {},
     "output_type": "execute_result"
    }
   ],
   "source": [
    "y[*lat.at(..., 0.1)].shape"
   ]
  },
  {
   "cell_type": "code",
   "execution_count": 123,
   "metadata": {},
   "outputs": [
    {
     "data": {
      "text/plain": [
       "(3, 20, 10)"
      ]
     },
     "execution_count": 123,
     "metadata": {},
     "output_type": "execute_result"
    }
   ],
   "source": [
    "y[*lat.window((-0.1, 0.15), ..., (-1, 0))].shape"
   ]
  }
 ],
 "metadata": {
  "kernelspec": {
   "display_name": ".env",
   "language": "python",
   "name": "python3"
  },
  "language_info": {
   "codemirror_mode": {
    "name": "ipython",
    "version": 3
   },
   "file_extension": ".py",
   "mimetype": "text/x-python",
   "name": "python",
   "nbconvert_exporter": "python",
   "pygments_lexer": "ipython3",
   "version": "3.11.5"
  }
 },
 "nbformat": 4,
 "nbformat_minor": 2
}
