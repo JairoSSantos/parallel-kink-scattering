{
 "cells": [
  {
   "cell_type": "code",
   "execution_count": 1,
   "metadata": {},
   "outputs": [],
   "source": [
    "import numpy as np\n",
    "import sympy as sp\n",
    "import matplotlib.pyplot as plt"
   ]
  },
  {
   "cell_type": "code",
   "execution_count": 2,
   "metadata": {},
   "outputs": [],
   "source": [
    "from math import factorial\n",
    "\n",
    "def coefficients(m, alpha):\n",
    "    alpha = np.stack(alpha)\n",
    "    p = len(alpha)\n",
    "    A = np.zeros((p, p))\n",
    "    A[0].fill(1)\n",
    "    for k in range(1, p):\n",
    "        A[k] = alpha**k\n",
    "    return factorial(m)*np.linalg.inv(A)[:, m]"
   ]
  },
  {
   "cell_type": "code",
   "execution_count": 8,
   "metadata": {},
   "outputs": [],
   "source": [
    "from dataclasses import dataclass\n",
    "\n",
    "@dataclass\n",
    "class Diff:\n",
    "    m: int\n",
    "    n: int\n",
    "    p: int\n",
    "    h: float\n",
    "\n",
    "    def __post_init__(self):\n",
    "        assert self.n >= 2*self.p\n",
    "        P = np.arange(self.p)[np.newaxis].repeat(self.p, axis=0)\n",
    "        l = int(self.p/2)\n",
    "        d = int(l*2 != self.p)\n",
    "        C = np.stack([coefficients(self.m, alpha) for alpha in P - P.T])\n",
    "        M = np.zeros((self.n - 2*l, self.n))\n",
    "        for i in range(self.n - 2*l):\n",
    "            M[i, i:i+self.p] = C[l]\n",
    "        self.M = np.c_[ \n",
    "            '0',\n",
    "            np.pad(C[:l], [(0, 0), (0, n - self.p)]),\n",
    "            M,\n",
    "            np.pad(C[l+d:], [(0, 0), (n - self.p, 0)]),\n",
    "        ]/(self.h**self.m)\n",
    "    \n",
    "    def __call__(self, y):\n",
    "        return self.M.dot(y)"
   ]
  }
 ],
 "metadata": {
  "kernelspec": {
   "display_name": ".env",
   "language": "python",
   "name": "python3"
  },
  "language_info": {
   "codemirror_mode": {
    "name": "ipython",
    "version": 3
   },
   "file_extension": ".py",
   "mimetype": "text/x-python",
   "name": "python",
   "nbconvert_exporter": "python",
   "pygments_lexer": "ipython3",
   "version": "3.11.5"
  }
 },
 "nbformat": 4,
 "nbformat_minor": 2
}
