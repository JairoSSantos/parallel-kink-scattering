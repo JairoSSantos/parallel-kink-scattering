{
 "cells": [
  {
   "cell_type": "code",
   "execution_count": 1,
   "metadata": {},
   "outputs": [],
   "source": [
    "import numpy as np\n",
    "import matplotlib.pyplot as plt\n",
    "import sympy as sp"
   ]
  },
  {
   "cell_type": "code",
   "execution_count": 2,
   "metadata": {},
   "outputs": [],
   "source": [
    "def weights(M, N, x0, alpha, sym=False):\n",
    "    delta = np.full((M + 1, N + 1, N + 1), sp.Rational(0) if sym else 0)\n",
    "    one = sp.Rational(1) if sym else 1\n",
    "    delta[0, 0, 0] = one\n",
    "    c1 = one\n",
    "    for n in range(1, N+1):\n",
    "        c2 = one\n",
    "        for nu in range(n):\n",
    "            c3 = alpha[n] - alpha[nu]\n",
    "            c2 *= c3\n",
    "            for m in range(min(n, M) + 1):\n",
    "                delta[m, n, nu] = ((alpha[n] - x0)*delta[m, n-1, nu] - m*delta[m-1, n-1, nu])/c3\n",
    "        for m in range(min(n, M) + 1):\n",
    "            delta[m, n, n] = (c1/c2)*(m*delta[m-1, n-1, n-1] - (alpha[n-1] - x0)*delta[m, n-1, n-1])\n",
    "        c1 = c2\n",
    "    return delta"
   ]
  },
  {
   "cell_type": "code",
   "execution_count": 12,
   "metadata": {},
   "outputs": [
    {
     "data": {
      "text/plain": [
       "(array([-1/12, 4/3, -5/2, 4/3, -1/12], dtype=object),\n",
       " array([-1, 16, -30, 16, -1], dtype=object))"
      ]
     },
     "execution_count": 12,
     "metadata": {},
     "output_type": "execute_result"
    }
   ],
   "source": [
    "alpha = [0, 1, -1, 2, -2]\n",
    "W = weights(M=2, N=4, x0=0, alpha=alpha, sym=True)\n",
    "w = W[2, 4, np.argsort(alpha)]\n",
    "w, 12*w"
   ]
  },
  {
   "cell_type": "code",
   "execution_count": 10,
   "metadata": {},
   "outputs": [
    {
     "data": {
      "text/plain": [
       "(array([11/12, -5/3, 1/2, 1/3, -1/12, 0, 0, 0, 0, 0], dtype=object),\n",
       " array([11, -20, 6, 4, -1, 0, 0, 0, 0, 0], dtype=object))"
      ]
     },
     "execution_count": 10,
     "metadata": {},
     "output_type": "execute_result"
    }
   ],
   "source": [
    "alpha = [0, 1, -1, 2, 3, 4, 5, 6, 7, 8]\n",
    "W = weights(M=2, N=len(alpha)-1, x0=0, alpha=alpha, sym=True)\n",
    "w = W[2, 4, np.argsort(alpha)]\n",
    "w, w*12"
   ]
  },
  {
   "cell_type": "code",
   "execution_count": 11,
   "metadata": {},
   "outputs": [
    {
     "data": {
      "text/plain": [
       "(array([35/12, -26/3, 19/2, -14/3, 11/12, 0, 0, 0, 0], dtype=object),\n",
       " array([35, -104, 114, -56, 11, 0, 0, 0, 0], dtype=object))"
      ]
     },
     "execution_count": 11,
     "metadata": {},
     "output_type": "execute_result"
    }
   ],
   "source": [
    "alpha = [0, 1, 2, 3, 4, 5, 6, 7, 8]\n",
    "W = weights(M=2, N=len(alpha)-1, x0=0, alpha=alpha, sym=True)\n",
    "w = W[2, 4, np.argsort(alpha)]\n",
    "w, 12*w"
   ]
  },
  {
   "cell_type": "code",
   "execution_count": 13,
   "metadata": {},
   "outputs": [
    {
     "data": {
      "text/plain": [
       "(array([0, 0, 0, 0, 0, -1/12, 1/3, 1/2, -5/3, 11/12], dtype=object),\n",
       " array([0, 0, 0, 0, 0, -1, 4, 6, -20, 11], dtype=object))"
      ]
     },
     "execution_count": 13,
     "metadata": {},
     "output_type": "execute_result"
    }
   ],
   "source": [
    "alpha = [0, 1, -1, -2, -3, -4, -5, -6, -7, -8]\n",
    "W = weights(M=2, N=len(alpha)-1, x0=0, alpha=alpha, sym=True)\n",
    "w = W[2, 4, np.argsort(alpha)]\n",
    "w, w*12"
   ]
  },
  {
   "cell_type": "code",
   "execution_count": 14,
   "metadata": {},
   "outputs": [
    {
     "data": {
      "text/plain": [
       "(array([0, 0, 0, 0, 11/12, -14/3, 19/2, -26/3, 35/12], dtype=object),\n",
       " array([0, 0, 0, 0, 11, -56, 114, -104, 35], dtype=object))"
      ]
     },
     "execution_count": 14,
     "metadata": {},
     "output_type": "execute_result"
    }
   ],
   "source": [
    "alpha = [0, -1, -2, -3, -4, -5, -6, -7, -8]\n",
    "W = weights(M=2, N=len(alpha)-1, x0=0, alpha=alpha, sym=True)\n",
    "w = W[2, 4, np.argsort(alpha)]\n",
    "w, 12*w"
   ]
  },
  {
   "cell_type": "code",
   "execution_count": 19,
   "metadata": {},
   "outputs": [
    {
     "data": {
      "text/plain": [
       "(array([11/12, -5/3, 1/2, 1/3, -1/12], dtype=object),\n",
       " array([11, -20, 6, 4, -1], dtype=object))"
      ]
     },
     "execution_count": 19,
     "metadata": {},
     "output_type": "execute_result"
    }
   ],
   "source": [
    "alpha = [0, 1, -1, 2, -2]\n",
    "W = weights(M=2, N=4, x0=-1, alpha=alpha, sym=True)\n",
    "w = W[2, 4, np.argsort(alpha)]\n",
    "w, 12*w"
   ]
  },
  {
   "cell_type": "code",
   "execution_count": 22,
   "metadata": {},
   "outputs": [
    {
     "data": {
      "text/plain": [
       "(array([-1/12, 4/3, -5/2, 4/3, -1/12], dtype=object),\n",
       " array([-1, 16, -30, 16, -1], dtype=object))"
      ]
     },
     "execution_count": 22,
     "metadata": {},
     "output_type": "execute_result"
    }
   ],
   "source": [
    "alpha = [-2, -1, 0, 1, 2]\n",
    "W = weights(M=2, N=4, x0=0, alpha=alpha, sym=True)\n",
    "w = W[2, 4, np.argsort(alpha)]\n",
    "w, 12*w"
   ]
  },
  {
   "cell_type": "code",
   "execution_count": 26,
   "metadata": {},
   "outputs": [],
   "source": [
    "def coefficients(M, order, alpha, sym: bool=True):\n",
    "    return weights(M=M, N=len(alpha)-1, x0=0, alpha=alpha, sym=sym)[M, order]"
   ]
  },
  {
   "cell_type": "code",
   "execution_count": 27,
   "metadata": {},
   "outputs": [
    {
     "data": {
      "text/plain": [
       "array([-1/12, 4/3, -5/2, 4/3, -1/12], dtype=object)"
      ]
     },
     "execution_count": 27,
     "metadata": {},
     "output_type": "execute_result"
    }
   ],
   "source": [
    "coefficients(2, 4, np.arange(-2, 3))"
   ]
  },
  {
   "cell_type": "code",
   "execution_count": 42,
   "metadata": {},
   "outputs": [
    {
     "data": {
      "text/latex": [
       "$\\displaystyle \\left[\\begin{array}{ccccccccccccccccccccccccc}2.917 & -8.667 & 9.5 & -4.667 & 0.917 & 0 & 0 & 0 & 0 & 0 & 0 & 0 & 0 & 0 & 0 & 0 & 0 & 0 & 0 & 0 & 0 & 0 & 0 & 0 & 0\\\\0 & 2.917 & -8.667 & 9.5 & -4.667 & 0.917 & 0 & 0 & 0 & 0 & 0 & 0 & 0 & 0 & 0 & 0 & 0 & 0 & 0 & 0 & 0 & 0 & 0 & 0 & 0\\\\-0.083 & 1.333 & -2.5 & 1.333 & -0.083 & 0 & 0 & 0 & 0 & 0 & 0 & 0 & 0 & 0 & 0 & 0 & 0 & 0 & 0 & 0 & 0 & 0 & 0 & 0 & 0\\\\0 & -0.083 & 1.333 & -2.5 & 1.333 & -0.083 & 0 & 0 & 0 & 0 & 0 & 0 & 0 & 0 & 0 & 0 & 0 & 0 & 0 & 0 & 0 & 0 & 0 & 0 & 0\\\\0 & 0 & -0.083 & 1.333 & -2.5 & 1.333 & -0.083 & 0 & 0 & 0 & 0 & 0 & 0 & 0 & 0 & 0 & 0 & 0 & 0 & 0 & 0 & 0 & 0 & 0 & 0\\\\0 & 0 & 0 & -0.083 & 1.333 & -2.5 & 1.333 & -0.083 & 0 & 0 & 0 & 0 & 0 & 0 & 0 & 0 & 0 & 0 & 0 & 0 & 0 & 0 & 0 & 0 & 0\\\\0 & 0 & 0 & 0 & -0.083 & 1.333 & -2.5 & 1.333 & -0.083 & 0 & 0 & 0 & 0 & 0 & 0 & 0 & 0 & 0 & 0 & 0 & 0 & 0 & 0 & 0 & 0\\\\0 & 0 & 0 & 0 & 0 & -0.083 & 1.333 & -2.5 & 1.333 & -0.083 & 0 & 0 & 0 & 0 & 0 & 0 & 0 & 0 & 0 & 0 & 0 & 0 & 0 & 0 & 0\\\\0 & 0 & 0 & 0 & 0 & 0 & -0.083 & 1.333 & -2.5 & 1.333 & -0.083 & 0 & 0 & 0 & 0 & 0 & 0 & 0 & 0 & 0 & 0 & 0 & 0 & 0 & 0\\\\0 & 0 & 0 & 0 & 0 & 0 & 0 & -0.083 & 1.333 & -2.5 & 1.333 & -0.083 & 0 & 0 & 0 & 0 & 0 & 0 & 0 & 0 & 0 & 0 & 0 & 0 & 0\\\\0 & 0 & 0 & 0 & 0 & 0 & 0 & 0 & -0.083 & 1.333 & -2.5 & 1.333 & -0.083 & 0 & 0 & 0 & 0 & 0 & 0 & 0 & 0 & 0 & 0 & 0 & 0\\\\0 & 0 & 0 & 0 & 0 & 0 & 0 & 0 & 0 & -0.083 & 1.333 & -2.5 & 1.333 & -0.083 & 0 & 0 & 0 & 0 & 0 & 0 & 0 & 0 & 0 & 0 & 0\\\\0 & 0 & 0 & 0 & 0 & 0 & 0 & 0 & 0 & 0 & -0.083 & 1.333 & -2.5 & 1.333 & -0.083 & 0 & 0 & 0 & 0 & 0 & 0 & 0 & 0 & 0 & 0\\\\0 & 0 & 0 & 0 & 0 & 0 & 0 & 0 & 0 & 0 & 0 & -0.083 & 1.333 & -2.5 & 1.333 & -0.083 & 0 & 0 & 0 & 0 & 0 & 0 & 0 & 0 & 0\\\\0 & 0 & 0 & 0 & 0 & 0 & 0 & 0 & 0 & 0 & 0 & 0 & -0.083 & 1.333 & -2.5 & 1.333 & -0.083 & 0 & 0 & 0 & 0 & 0 & 0 & 0 & 0\\\\0 & 0 & 0 & 0 & 0 & 0 & 0 & 0 & 0 & 0 & 0 & 0 & 0 & -0.083 & 1.333 & -2.5 & 1.333 & -0.083 & 0 & 0 & 0 & 0 & 0 & 0 & 0\\\\0 & 0 & 0 & 0 & 0 & 0 & 0 & 0 & 0 & 0 & 0 & 0 & 0 & 0 & -0.083 & 1.333 & -2.5 & 1.333 & -0.083 & 0 & 0 & 0 & 0 & 0 & 0\\\\0 & 0 & 0 & 0 & 0 & 0 & 0 & 0 & 0 & 0 & 0 & 0 & 0 & 0 & 0 & -0.083 & 1.333 & -2.5 & 1.333 & -0.083 & 0 & 0 & 0 & 0 & 0\\\\0 & 0 & 0 & 0 & 0 & 0 & 0 & 0 & 0 & 0 & 0 & 0 & 0 & 0 & 0 & 0 & -0.083 & 1.333 & -2.5 & 1.333 & -0.083 & 0 & 0 & 0 & 0\\\\0 & 0 & 0 & 0 & 0 & 0 & 0 & 0 & 0 & 0 & 0 & 0 & 0 & 0 & 0 & 0 & 0 & -0.083 & 1.333 & -2.5 & 1.333 & -0.083 & 0 & 0 & 0\\\\0 & 0 & 0 & 0 & 0 & 0 & 0 & 0 & 0 & 0 & 0 & 0 & 0 & 0 & 0 & 0 & 0 & 0 & -0.083 & 1.333 & -2.5 & 1.333 & -0.083 & 0 & 0\\\\0 & 0 & 0 & 0 & 0 & 0 & 0 & 0 & 0 & 0 & 0 & 0 & 0 & 0 & 0 & 0 & 0 & 0 & 0 & -0.083 & 1.333 & -2.5 & 1.333 & -0.083 & 0\\\\0 & 0 & 0 & 0 & 0 & 0 & 0 & 0 & 0 & 0 & 0 & 0 & 0 & 0 & 0 & 0 & 0 & 0 & 0 & 0 & -0.083 & 1.333 & -2.5 & 1.333 & -0.083\\\\0 & 0 & 0 & 0 & 0 & 0 & 0 & 0 & 0 & 0 & 0 & 0 & 0 & 0 & 0 & 0 & 0 & 0 & 0 & 0.917 & -4.667 & 9.5 & -8.667 & 2.917 & 0\\\\0 & 0 & 0 & 0 & 0 & 0 & 0 & 0 & 0 & 0 & 0 & 0 & 0 & 0 & 0 & 0 & 0 & 0 & 0 & 0 & 0.917 & -4.667 & 9.5 & -8.667 & 2.917\\end{array}\\right]$"
      ],
      "text/plain": [
       "Matrix([\n",
       "[ 2.917, -8.667,    9.5, -4.667,  0.917,      0,      0,      0,      0,      0,      0,      0,      0,      0,      0,      0,      0,      0,      0,      0,      0,      0,      0,      0,      0],\n",
       "[     0,  2.917, -8.667,    9.5, -4.667,  0.917,      0,      0,      0,      0,      0,      0,      0,      0,      0,      0,      0,      0,      0,      0,      0,      0,      0,      0,      0],\n",
       "[-0.083,  1.333,   -2.5,  1.333, -0.083,      0,      0,      0,      0,      0,      0,      0,      0,      0,      0,      0,      0,      0,      0,      0,      0,      0,      0,      0,      0],\n",
       "[     0, -0.083,  1.333,   -2.5,  1.333, -0.083,      0,      0,      0,      0,      0,      0,      0,      0,      0,      0,      0,      0,      0,      0,      0,      0,      0,      0,      0],\n",
       "[     0,      0, -0.083,  1.333,   -2.5,  1.333, -0.083,      0,      0,      0,      0,      0,      0,      0,      0,      0,      0,      0,      0,      0,      0,      0,      0,      0,      0],\n",
       "[     0,      0,      0, -0.083,  1.333,   -2.5,  1.333, -0.083,      0,      0,      0,      0,      0,      0,      0,      0,      0,      0,      0,      0,      0,      0,      0,      0,      0],\n",
       "[     0,      0,      0,      0, -0.083,  1.333,   -2.5,  1.333, -0.083,      0,      0,      0,      0,      0,      0,      0,      0,      0,      0,      0,      0,      0,      0,      0,      0],\n",
       "[     0,      0,      0,      0,      0, -0.083,  1.333,   -2.5,  1.333, -0.083,      0,      0,      0,      0,      0,      0,      0,      0,      0,      0,      0,      0,      0,      0,      0],\n",
       "[     0,      0,      0,      0,      0,      0, -0.083,  1.333,   -2.5,  1.333, -0.083,      0,      0,      0,      0,      0,      0,      0,      0,      0,      0,      0,      0,      0,      0],\n",
       "[     0,      0,      0,      0,      0,      0,      0, -0.083,  1.333,   -2.5,  1.333, -0.083,      0,      0,      0,      0,      0,      0,      0,      0,      0,      0,      0,      0,      0],\n",
       "[     0,      0,      0,      0,      0,      0,      0,      0, -0.083,  1.333,   -2.5,  1.333, -0.083,      0,      0,      0,      0,      0,      0,      0,      0,      0,      0,      0,      0],\n",
       "[     0,      0,      0,      0,      0,      0,      0,      0,      0, -0.083,  1.333,   -2.5,  1.333, -0.083,      0,      0,      0,      0,      0,      0,      0,      0,      0,      0,      0],\n",
       "[     0,      0,      0,      0,      0,      0,      0,      0,      0,      0, -0.083,  1.333,   -2.5,  1.333, -0.083,      0,      0,      0,      0,      0,      0,      0,      0,      0,      0],\n",
       "[     0,      0,      0,      0,      0,      0,      0,      0,      0,      0,      0, -0.083,  1.333,   -2.5,  1.333, -0.083,      0,      0,      0,      0,      0,      0,      0,      0,      0],\n",
       "[     0,      0,      0,      0,      0,      0,      0,      0,      0,      0,      0,      0, -0.083,  1.333,   -2.5,  1.333, -0.083,      0,      0,      0,      0,      0,      0,      0,      0],\n",
       "[     0,      0,      0,      0,      0,      0,      0,      0,      0,      0,      0,      0,      0, -0.083,  1.333,   -2.5,  1.333, -0.083,      0,      0,      0,      0,      0,      0,      0],\n",
       "[     0,      0,      0,      0,      0,      0,      0,      0,      0,      0,      0,      0,      0,      0, -0.083,  1.333,   -2.5,  1.333, -0.083,      0,      0,      0,      0,      0,      0],\n",
       "[     0,      0,      0,      0,      0,      0,      0,      0,      0,      0,      0,      0,      0,      0,      0, -0.083,  1.333,   -2.5,  1.333, -0.083,      0,      0,      0,      0,      0],\n",
       "[     0,      0,      0,      0,      0,      0,      0,      0,      0,      0,      0,      0,      0,      0,      0,      0, -0.083,  1.333,   -2.5,  1.333, -0.083,      0,      0,      0,      0],\n",
       "[     0,      0,      0,      0,      0,      0,      0,      0,      0,      0,      0,      0,      0,      0,      0,      0,      0, -0.083,  1.333,   -2.5,  1.333, -0.083,      0,      0,      0],\n",
       "[     0,      0,      0,      0,      0,      0,      0,      0,      0,      0,      0,      0,      0,      0,      0,      0,      0,      0, -0.083,  1.333,   -2.5,  1.333, -0.083,      0,      0],\n",
       "[     0,      0,      0,      0,      0,      0,      0,      0,      0,      0,      0,      0,      0,      0,      0,      0,      0,      0,      0, -0.083,  1.333,   -2.5,  1.333, -0.083,      0],\n",
       "[     0,      0,      0,      0,      0,      0,      0,      0,      0,      0,      0,      0,      0,      0,      0,      0,      0,      0,      0,      0, -0.083,  1.333,   -2.5,  1.333, -0.083],\n",
       "[     0,      0,      0,      0,      0,      0,      0,      0,      0,      0,      0,      0,      0,      0,      0,      0,      0,      0,      0,  0.917, -4.667,    9.5, -8.667,  2.917,      0],\n",
       "[     0,      0,      0,      0,      0,      0,      0,      0,      0,      0,      0,      0,      0,      0,      0,      0,      0,      0,      0,      0,  0.917, -4.667,    9.5, -8.667,  2.917]])"
      ]
     },
     "execution_count": 42,
     "metadata": {},
     "output_type": "execute_result"
    }
   ],
   "source": [
    "forward = coefficients(2, 4, (0, 1, 2, 3, 4)).astype(float)[np.newaxis]\n",
    "central = coefficients(2, 4, (-2, -1, 0, 1, 2)).astype(float)\n",
    "\n",
    "N = 25\n",
    "M = np.zeros((N-4, N))\n",
    "for loc, value in enumerate(central):\n",
    "    M += np.diagflat(np.full(N-loc, value), loc)[:-4]\n",
    "for i in range(2):\n",
    "    k, l = 1-i, N-5-(1-i)\n",
    "    M = np.r_[np.pad(forward, [(0, 0), (k, l)]), M, np.pad(forward[:, ::-1], [(0, 0), (l, k)])]\n",
    "sp.Matrix(M.round(3))"
   ]
  },
  {
   "cell_type": "code",
   "execution_count": 43,
   "metadata": {},
   "outputs": [
    {
     "data": {
      "text/plain": [
       "[<matplotlib.lines.Line2D at 0x7fae2203a450>,\n",
       " <matplotlib.lines.Line2D at 0x7fae22038490>,\n",
       " <matplotlib.lines.Line2D at 0x7fae2203af50>]"
      ]
     },
     "execution_count": 43,
     "metadata": {},
     "output_type": "execute_result"
    },
    {
     "data": {
      "image/png": "[encoded data removed]",
      "text/plain": [
       "<Figure size 640x480 with 1 Axes>"
      ]
     },
     "metadata": {},
     "output_type": "display_data"
    }
   ],
   "source": [
    "x = np.linspace(0, 2*np.pi, N)\n",
    "y = np.sin(x)\n",
    "plt.plot(x, y, x, -y, x, M.dot(y)/((x[1] - x[0])**2))"
   ]
  }
 ],
 "metadata": {
  "kernelspec": {
   "display_name": ".env",
   "language": "python",
   "name": "python3"
  },
  "language_info": {
   "codemirror_mode": {
    "name": "ipython",
    "version": 3
   },
   "file_extension": ".py",
   "mimetype": "text/x-python",
   "name": "python",
   "nbconvert_exporter": "python",
   "pygments_lexer": "ipython3",
   "version": "3.11.0rc1"
  }
 },
 "nbformat": 4,
 "nbformat_minor": 2
}
