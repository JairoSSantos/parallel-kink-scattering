{
 "cells": [
  {
   "cell_type": "markdown",
   "metadata": {},
   "source": [
    "# Nth order Taylor method"
   ]
  },
  {
   "cell_type": "markdown",
   "metadata": {},
   "source": [
    "$$\n",
    "y_{i+1} = y_i + hT^{(N)}_i \\Longrightarrow T^{(N)}_i = \\sum_{n=0}^N \\frac{h^n}{(n+1)!} f^{(n)}(t_i, y_i)\n",
    "$$"
   ]
  },
  {
   "cell_type": "code",
   "execution_count": 4,
   "metadata": {},
   "outputs": [],
   "source": [
    "import sympy as sp\n",
    "import numpy as np\n",
    "import pandas as pd\n",
    "import matplotlib.pyplot as plt\n",
    "from concurrent.futures import ThreadPoolExecutor\n",
    "from multiprocessing import Pool\n",
    "import time"
   ]
  },
  {
   "cell_type": "code",
   "execution_count": 30,
   "metadata": {},
   "outputs": [],
   "source": [
    "from math import factorial\n",
    "\n",
    "class Nth_Taylor:\n",
    "    def __init__(self, h: float, t0: float, y0: float, fs: tuple|list, executor=None):\n",
    "        self.h = h\n",
    "        self.y = [y0]\n",
    "        self.t = [t0]\n",
    "        self.fs = fs # [f, f', f'', f''', ...]\n",
    "        self.N = tuple(range(len(fs))) # [0, 1, 2, ...]\n",
    "        self.i = 0\n",
    "        self.executor = executor\n",
    "\n",
    "    def _T(self, n):\n",
    "        return self.h**n * self.fs[n](self.t[-1], self.y[-1])/factorial(n + 1)\n",
    "    \n",
    "    def step(self):\n",
    "        T = sum(self.executor.map(self._T, self.N) if self.executor else map(self._T, self.N))\n",
    "        self.y.append(\n",
    "            self.y[-1] + self.h*T\n",
    "        )\n",
    "        self.t.append(self.t[-1] + self.h)\n",
    "        self.i += 1\n",
    "    \n",
    "    def solve(self, m: int):\n",
    "        for _ in range(m):\n",
    "            self.step()\n",
    "        return self.t, self.y\n",
    "    \n",
    "    def reset(self):\n",
    "        self.y = [self.y[0]]\n",
    "        self.t = [self.t[0]]"
   ]
  },
  {
   "cell_type": "code",
   "execution_count": 68,
   "metadata": {},
   "outputs": [],
   "source": [
    "def f(t, y):\n",
    "    return 2*(1 - t*y)/(t**2 + 1)\n",
    "\n",
    "t = sp.symbols('t')\n",
    "y = sp.Function('y')(t)\n",
    "dy = y.diff(t)\n",
    "fs = [f]\n",
    "for _ in range(4):\n",
    "    fn = fs[-1](t, y).diff(t).subs(dy, f(t, y)).simplify()\n",
    "    fs.append(sp.lambdify((t, y), fn))\n",
    "\n",
    "exemple = Nth_Taylor(\n",
    "    h= 0.2,\n",
    "    t0= 0,\n",
    "    y0= 0.5,\n",
    "    fs= fs,\n",
    ")"
   ]
  },
  {
   "cell_type": "code",
   "execution_count": 69,
   "metadata": {},
   "outputs": [
    {
     "name": "stdout",
     "output_type": "stream",
     "text": [
      "CPU times: user 4.23 s, sys: 23.9 ms, total: 4.26 s\n",
      "Wall time: 4.25 s\n"
     ]
    }
   ],
   "source": [
    "%%time\n",
    "exemple.reset()\n",
    "exemple.solve(1000000)\n",
    "None"
   ]
  },
  {
   "cell_type": "code",
   "execution_count": 70,
   "metadata": {},
   "outputs": [
    {
     "name": "stdout",
     "output_type": "stream",
     "text": [
      "CPU times: user 4.21 s, sys: 31.9 ms, total: 4.25 s\n",
      "Wall time: 4.24 s\n"
     ]
    }
   ],
   "source": [
    "%%time\n",
    "exemple.reset()\n",
    "with ThreadPoolExecutor(max_workers=len(exemple.fs)) as executor:\n",
    "    exemple.solve(1000000)"
   ]
  },
  {
   "cell_type": "code",
   "execution_count": 71,
   "metadata": {},
   "outputs": [
    {
     "name": "stdout",
     "output_type": "stream",
     "text": [
      "CPU times: user 4.2 s, sys: 88 ms, total: 4.29 s\n",
      "Wall time: 4.31 s\n"
     ]
    }
   ],
   "source": [
    "%%time\n",
    "exemple.reset()\n",
    "with Pool(processes=len(exemple.fs)) as executor:\n",
    "    exemple.solve(1000000)"
   ]
  },
  {
   "cell_type": "code",
   "execution_count": 18,
   "metadata": {},
   "outputs": [
    {
     "data": {
      "text/html": [
       "<div>\n",
       "<style scoped>\n",
       "    .dataframe tbody tr th:only-of-type {\n",
       "        vertical-align: middle;\n",
       "    }\n",
       "\n",
       "    .dataframe tbody tr th {\n",
       "        vertical-align: top;\n",
       "    }\n",
       "\n",
       "    .dataframe thead th {\n",
       "        text-align: right;\n",
       "    }\n",
       "</style>\n",
       "<table border=\"1\" class=\"dataframe\">\n",
       "  <thead>\n",
       "    <tr style=\"text-align: right;\">\n",
       "      <th></th>\n",
       "      <th>x</th>\n",
       "      <th>y</th>\n",
       "    </tr>\n",
       "  </thead>\n",
       "  <tbody>\n",
       "    <tr>\n",
       "      <th>0</th>\n",
       "      <td>0.0</td>\n",
       "      <td>0.500000</td>\n",
       "    </tr>\n",
       "    <tr>\n",
       "      <th>1</th>\n",
       "      <td>0.2</td>\n",
       "      <td>0.830000</td>\n",
       "    </tr>\n",
       "    <tr>\n",
       "      <th>2</th>\n",
       "      <td>0.4</td>\n",
       "      <td>1.215800</td>\n",
       "    </tr>\n",
       "    <tr>\n",
       "      <th>3</th>\n",
       "      <td>0.6</td>\n",
       "      <td>1.652076</td>\n",
       "    </tr>\n",
       "    <tr>\n",
       "      <th>4</th>\n",
       "      <td>0.8</td>\n",
       "      <td>2.132333</td>\n",
       "    </tr>\n",
       "    <tr>\n",
       "      <th>5</th>\n",
       "      <td>1.0</td>\n",
       "      <td>2.648646</td>\n",
       "    </tr>\n",
       "    <tr>\n",
       "      <th>6</th>\n",
       "      <td>1.2</td>\n",
       "      <td>3.191348</td>\n",
       "    </tr>\n",
       "    <tr>\n",
       "      <th>7</th>\n",
       "      <td>1.4</td>\n",
       "      <td>3.748645</td>\n",
       "    </tr>\n",
       "    <tr>\n",
       "      <th>8</th>\n",
       "      <td>1.6</td>\n",
       "      <td>4.306146</td>\n",
       "    </tr>\n",
       "    <tr>\n",
       "      <th>9</th>\n",
       "      <td>1.8</td>\n",
       "      <td>4.846299</td>\n",
       "    </tr>\n",
       "    <tr>\n",
       "      <th>10</th>\n",
       "      <td>2.0</td>\n",
       "      <td>5.347684</td>\n",
       "    </tr>\n",
       "  </tbody>\n",
       "</table>\n",
       "</div>"
      ],
      "text/plain": [
       "      x         y\n",
       "0   0.0  0.500000\n",
       "1   0.2  0.830000\n",
       "2   0.4  1.215800\n",
       "3   0.6  1.652076\n",
       "4   0.8  2.132333\n",
       "5   1.0  2.648646\n",
       "6   1.2  3.191348\n",
       "7   1.4  3.748645\n",
       "8   1.6  4.306146\n",
       "9   1.8  4.846299\n",
       "10  2.0  5.347684"
      ]
     },
     "execution_count": 18,
     "metadata": {},
     "output_type": "execute_result"
    }
   ],
   "source": [
    "pd.DataFrame(dict(zip(('x', 'y'), solver.solve(10))))"
   ]
  },
  {
   "cell_type": "code",
   "execution_count": 100,
   "metadata": {},
   "outputs": [
    {
     "name": "stdout",
     "output_type": "stream",
     "text": [
      "0 1\n",
      "[[  1.   4.  52.  57.]\n",
      " [ 22. 110.  -3. 129.]\n",
      " [ 22.   2.  14.  38.]]\n",
      "0 2\n",
      "[[ 1.000e+00  4.000e+00  5.200e+01  5.700e+01]\n",
      " [ 0.000e+00  2.200e+01 -1.147e+03 -1.125e+03]\n",
      " [ 2.200e+01  2.000e+00  1.400e+01  3.800e+01]]\n",
      "1 2\n",
      "[[ 1.000e+00  4.000e+00  5.200e+01  5.700e+01]\n",
      " [ 0.000e+00  2.200e+01 -1.147e+03 -1.125e+03]\n",
      " [ 0.000e+00 -8.600e+01 -1.130e+03 -1.216e+03]]\n"
     ]
    },
    {
     "name": "stderr",
     "output_type": "stream",
     "text": [
      "/tmp/ipykernel_110644/273545726.py:10: RuntimeWarning: overflow encountered in multiply\n",
      "  a[j] -= a[i]*a[j, i]/a[i, i]\n"
     ]
    },
    {
     "data": {
      "text/plain": [
       "array([[ 1.000e+00,  4.000e+00,  5.200e+01,  5.700e+01],\n",
       "       [ 0.000e+00,  2.200e+01, -1.147e+03, -1.125e+03],\n",
       "       [ 0.000e+00,  0.000e+00,       -inf,       -inf]], dtype=float16)"
      ]
     },
     "execution_count": 100,
     "metadata": {},
     "output_type": "execute_result"
    }
   ],
   "source": [
    "a = np.array([\n",
    "    [1, 4, 52, 57],\n",
    "    [22, 110, -3, 129],\n",
    "    [22, 2, 14, 38]\n",
    "]).astype('float16')\n",
    "for i in range(a.shape[0]-1):\n",
    "    for j in range(i+1, a.shape[0]):\n",
    "        print(i, j)\n",
    "        print(a)\n",
    "        a[j] -= a[i]*a[j, i]/a[i, i]\n",
    "a"
   ]
  }
 ],
 "metadata": {
  "kernelspec": {
   "display_name": ".env",
   "language": "python",
   "name": "python3"
  },
  "language_info": {
   "codemirror_mode": {
    "name": "ipython",
    "version": 3
   },
   "file_extension": ".py",
   "mimetype": "text/x-python",
   "name": "python",
   "nbconvert_exporter": "python",
   "pygments_lexer": "ipython3",
   "version": "3.10.12"
  },
  "orig_nbformat": 4
 },
 "nbformat": 4,
 "nbformat_minor": 2
}
