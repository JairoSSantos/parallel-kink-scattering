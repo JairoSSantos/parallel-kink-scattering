{
 "cells": [
  {
   "cell_type": "markdown",
   "metadata": {},
   "source": [
    "## Parallel fourth-order Runge-Kutta\n",
    "\n",
    "Given the simplest form of the initial-value problem for ODEs:\n",
    "$$\n",
    "y' = f(t, y), \\quad y(a) = \\alpha,\n",
    "$$\n",
    "the classical Runge-Kutta solver is defined as\n",
    "$$\n",
    "\\begin{align*}\n",
    "    y^{(n+1)} &= y^{(n)} + \\frac{h}{6}(k_1 + 2k_2 + 2k_3 + k_4),\\\\\n",
    "    k_1 &= f\\left(t^{(n)}, y^{(n)}\\right),\\\\\n",
    "    k_2 &= f\\left(t^{(n)} + h/2, y^{(n)} + hk_1/2\\right),\\\\\n",
    "    k_3 &= f\\left(t^{(n)} + h/2, y^{(n)} + hk_2/2\\right),\\\\\n",
    "    k_4 &= f\\left(t^{(n)} + h/2, y^{(n)} + hk_3\\right),\\\\\n",
    "\\end{align*}\n",
    "$$\n",
    "\n",
    "In accordance with [C. Liu et al. (2011)](https://dl.acm.org/doi/abs/10.1007/978-3-642-25255-6_25), the Runge-Kutta solver can be parallelized as follows:\n",
    "$$\n",
    "\\begin{align*}\n",
    "    y_{(n+1)} =& y_n + \\frac{h}{6}(k_1^{(n)} + 2k_2^{(n)} + 2k_3^{(n)} + k_4^{(n)}),\\\\\n",
    "    k_1^{(n)} =& f\\left(t^{(n)}, y^{(n)}\\right),\\\\\n",
    "    k_2^{(n)} =& f\\left(t^{(n)} + h/2, y^{(n)} - 3k_1^{(n-1)}/4 + k_2^{(n-1)}/2 + 3k_4^{(n-1)}/4\\right),\\\\\n",
    "    k_3^{(n)} =& f\\left(t^{(n)} + h/2, y^{(n)} - k_1^{(n-1)} + 2k_2^{(n-1)} - k_3^{(n-1)}/2 \\right),\\\\\n",
    "    k_4^{(n)} =& f\\left(t^{(n)} + h/2, y^{(n)} + k_1^{(n-1)}/2 + k_4^{(n-1)}/2\\right),\\\\\n",
    "\\end{align*}\n",
    "$$"
   ]
  },
  {
   "cell_type": "code",
   "execution_count": 53,
   "metadata": {},
   "outputs": [],
   "source": [
    "import numpy as np\n",
    "import pandas as pd\n",
    "import matplotlib.pyplot as plt\n",
    "from threading import Thread, Condition\n",
    "from queue import Queue\n",
    "from multiprocessing import Pool\n",
    "import time"
   ]
  },
  {
   "cell_type": "code",
   "execution_count": 43,
   "metadata": {},
   "outputs": [],
   "source": [
    "def timeit(function, *args, **kwargs):\n",
    "    t0 = time.time()\n",
    "    y = function(*args, **kwargs)\n",
    "    tf = time.time()\n",
    "    return tf - t0, y\n",
    "\n",
    "class RK4:\n",
    "    def __init__(self, h: float):\n",
    "        self.h = h\n",
    "    \n",
    "    def _get_next_ks(self, x, y):\n",
    "        k1 = self.f(x, *y)\n",
    "        k2 = self.f(x + self.h/2, *(y + self.h*k1/2))\n",
    "        k3 = self.f(x + self.h/2, *(y + self.h*k2/2))\n",
    "        k4 = self.f(x + self.h/2, *(y + self.h*k3))\n",
    "        return (k1, k2, k3, k4)\n",
    "\n",
    "    def _k1(self, x, y, ks, next_ks):\n",
    "        next_ks[0] = self.f(x, *y)\n",
    "\n",
    "    def _k2(self, x, y, ks, next_ks):\n",
    "        k1, k2, _, k4 = ks\n",
    "        next_ks[1] = self.f(x + self.h/2, *(y - 3*k1/4 + k2/2 + 3*k4/4))\n",
    "\n",
    "    def _k3(self, x, y, ks, next_ks):\n",
    "        k1, k2, k3, _ = ks\n",
    "        next_ks[2] = self.f(x + self.h/2, *(y - k1 + 2*k2 - k3/2))\n",
    "    \n",
    "    def _k4(self, x, y, ks, next_ks):\n",
    "        k1, _, _, k4 = ks\n",
    "        next_ks[3] = self.f(x + self.h/2, *(y + k1/2 + k4/2))\n",
    "    \n",
    "    def _ks_calc(self, x, y, last_ks, k):\n",
    "        with self.condition:\n",
    "            while True:\n",
    "                k(x, y, last_ks)\n",
    "                self.condition.wait()\n",
    "\n",
    "    def _get_next_ks_threading(self, x, y, last_ks):\n",
    "        threads = []\n",
    "        next_ks = [None]*4\n",
    "        for K in (self._k1, self._k2, self._k3, self._k4):\n",
    "            threads.append(Thread(target=K, args=(x, y, last_ks, next_ks)))\n",
    "            threads[-1].start()\n",
    "        \n",
    "        for thread in threads:\n",
    "            thread.join()\n",
    "\n",
    "        return next_ks\n",
    "    \n",
    "    def apply_on(self, function):\n",
    "        self.f = function\n",
    "    \n",
    "    def pure(self, x0: float, y0: np.ndarray, N: int):\n",
    "        y = [y0]\n",
    "        x = [x0]\n",
    "        for n in range(N):\n",
    "            k1, k2, k3, k4 = self._get_next_ks(x[n], y[n])\n",
    "            x.append(x[n] + self.h)\n",
    "            y.append(y[n] + self.h*(k1 + 2*k2 + 2*k3 + k4)/6)\n",
    "        return x, y\n",
    "    \n",
    "    def threading(self, x0: float, y0: np.ndarray, N: int):\n",
    "        y = [y0]\n",
    "        x = [x0]\n",
    "        last_ks = []\n",
    "        for n in range(N):\n",
    "            last_ks = k1, k2, k3, k4 = self._get_next_ks(x[n], y[n]) if n == 0 else self._get_next_ks_threading(x[n], y[n], last_ks=last_ks)\n",
    "            x.append(x[n] + self.h)\n",
    "            y.append(y[n] + self.h*(k1 + 2*k2 + 2*k3 + k4)/6)\n",
    "        return x, y"
   ]
  },
  {
   "cell_type": "markdown",
   "metadata": {},
   "source": [
    "$$\n",
    "y' = y - t^2 + 1\\quad 0\\le 1\\le 2\\quad y(0) = 0.5\n",
    "$$"
   ]
  },
  {
   "cell_type": "code",
   "execution_count": 50,
   "metadata": {},
   "outputs": [],
   "source": [
    "rk4 = RK4(h=1e-5)\n",
    "\n",
    "@rk4.apply_on\n",
    "def f(t, y):\n",
    "    return y - t**2 + 1"
   ]
  },
  {
   "cell_type": "code",
   "execution_count": 51,
   "metadata": {},
   "outputs": [
    {
     "name": "stdout",
     "output_type": "stream",
     "text": [
      "Tempo de execução: 1.852623462677002 s\n"
     ]
    },
    {
     "data": {
      "text/html": [
       "<div>\n",
       "<style scoped>\n",
       "    .dataframe tbody tr th:only-of-type {\n",
       "        vertical-align: middle;\n",
       "    }\n",
       "\n",
       "    .dataframe tbody tr th {\n",
       "        vertical-align: top;\n",
       "    }\n",
       "\n",
       "    .dataframe thead th {\n",
       "        text-align: right;\n",
       "    }\n",
       "</style>\n",
       "<table border=\"1\" class=\"dataframe\">\n",
       "  <thead>\n",
       "    <tr style=\"text-align: right;\">\n",
       "      <th></th>\n",
       "      <th>x</th>\n",
       "      <th>y</th>\n",
       "    </tr>\n",
       "  </thead>\n",
       "  <tbody>\n",
       "    <tr>\n",
       "      <th>0</th>\n",
       "      <td>0.00000</td>\n",
       "      <td>0.500000</td>\n",
       "    </tr>\n",
       "    <tr>\n",
       "      <th>1</th>\n",
       "      <td>0.00001</td>\n",
       "      <td>0.500015</td>\n",
       "    </tr>\n",
       "    <tr>\n",
       "      <th>2</th>\n",
       "      <td>0.00002</td>\n",
       "      <td>0.500030</td>\n",
       "    </tr>\n",
       "    <tr>\n",
       "      <th>3</th>\n",
       "      <td>0.00003</td>\n",
       "      <td>0.500045</td>\n",
       "    </tr>\n",
       "    <tr>\n",
       "      <th>4</th>\n",
       "      <td>0.00004</td>\n",
       "      <td>0.500060</td>\n",
       "    </tr>\n",
       "  </tbody>\n",
       "</table>\n",
       "</div>"
      ],
      "text/plain": [
       "         x         y\n",
       "0  0.00000  0.500000\n",
       "1  0.00001  0.500015\n",
       "2  0.00002  0.500030\n",
       "3  0.00003  0.500045\n",
       "4  0.00004  0.500060"
      ]
     },
     "execution_count": 51,
     "metadata": {},
     "output_type": "execute_result"
    }
   ],
   "source": [
    "t, (x, y) = timeit(rk4.pure, x0=0, y0=np.array([0.5]), N=100000)\n",
    "print(f'Tempo de execução: {t} s')\n",
    "pd.DataFrame({'x':x, 'y':np.stack(y)[:, 0]}).head()"
   ]
  },
  {
   "cell_type": "code",
   "execution_count": 52,
   "metadata": {},
   "outputs": [
    {
     "name": "stdout",
     "output_type": "stream",
     "text": [
      "Tempo de execução: 40.81749939918518 s\n"
     ]
    },
    {
     "data": {
      "text/html": [
       "<div>\n",
       "<style scoped>\n",
       "    .dataframe tbody tr th:only-of-type {\n",
       "        vertical-align: middle;\n",
       "    }\n",
       "\n",
       "    .dataframe tbody tr th {\n",
       "        vertical-align: top;\n",
       "    }\n",
       "\n",
       "    .dataframe thead th {\n",
       "        text-align: right;\n",
       "    }\n",
       "</style>\n",
       "<table border=\"1\" class=\"dataframe\">\n",
       "  <thead>\n",
       "    <tr style=\"text-align: right;\">\n",
       "      <th></th>\n",
       "      <th>x</th>\n",
       "      <th>y</th>\n",
       "    </tr>\n",
       "  </thead>\n",
       "  <tbody>\n",
       "    <tr>\n",
       "      <th>0</th>\n",
       "      <td>0.00000</td>\n",
       "      <td>0.500000</td>\n",
       "    </tr>\n",
       "    <tr>\n",
       "      <th>1</th>\n",
       "      <td>0.00001</td>\n",
       "      <td>0.500015</td>\n",
       "    </tr>\n",
       "    <tr>\n",
       "      <th>2</th>\n",
       "      <td>0.00002</td>\n",
       "      <td>0.500038</td>\n",
       "    </tr>\n",
       "    <tr>\n",
       "      <th>3</th>\n",
       "      <td>0.00003</td>\n",
       "      <td>0.500070</td>\n",
       "    </tr>\n",
       "    <tr>\n",
       "      <th>4</th>\n",
       "      <td>0.00004</td>\n",
       "      <td>0.500116</td>\n",
       "    </tr>\n",
       "  </tbody>\n",
       "</table>\n",
       "</div>"
      ],
      "text/plain": [
       "         x         y\n",
       "0  0.00000  0.500000\n",
       "1  0.00001  0.500015\n",
       "2  0.00002  0.500038\n",
       "3  0.00003  0.500070\n",
       "4  0.00004  0.500116"
      ]
     },
     "execution_count": 52,
     "metadata": {},
     "output_type": "execute_result"
    }
   ],
   "source": [
    "t, (x, y) = timeit(rk4.threading, x0=0, y0=np.array([0.5]), N=100000)\n",
    "print(f'Tempo de execução: {t} s')\n",
    "pd.DataFrame({'x':x, 'y':np.stack(y)[:, 0]}).head()"
   ]
  },
  {
   "cell_type": "code",
   "execution_count": null,
   "metadata": {},
   "outputs": [],
   "source": []
  }
 ],
 "metadata": {
  "kernelspec": {
   "display_name": ".env",
   "language": "python",
   "name": "python3"
  },
  "language_info": {
   "codemirror_mode": {
    "name": "ipython",
    "version": 3
   },
   "file_extension": ".py",
   "mimetype": "text/x-python",
   "name": "python",
   "nbconvert_exporter": "python",
   "pygments_lexer": "ipython3",
   "version": "3.11.5"
  },
  "orig_nbformat": 4
 },
 "nbformat": 4,
 "nbformat_minor": 2
}
