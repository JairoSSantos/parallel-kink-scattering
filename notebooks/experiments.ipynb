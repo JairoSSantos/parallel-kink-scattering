{
 "cells": [
  {
   "cell_type": "code",
   "execution_count": 1,
   "metadata": {},
   "outputs": [
    {
     "name": "stdout",
     "output_type": "stream",
     "text": [
      "/home/jairo/Documentos/GitHub/kink-antikink-parellel\n"
     ]
    }
   ],
   "source": [
    "%cd .."
   ]
  },
  {
   "cell_type": "code",
   "execution_count": 2,
   "metadata": {},
   "outputs": [],
   "source": [
    "import numpy as np\n",
    "import pandas as pd\n",
    "import matplotlib.pyplot as plt\n",
    "import multiprocessing as mp\n",
    "from functools import partial\n",
    "from time import time\n",
    "import logging\n",
    "\n",
    "logger = logging.getLogger()\n",
    "logger.setLevel(logging.DEBUG)\n",
    "ch = logging.StreamHandler()\n",
    "ch.setLevel(logging.DEBUG)\n",
    "ch.setFormatter(logging.Formatter('[%(asctime)s] %(message)s', datefmt='%d/%m/%Y - %H:%M:%S'))\n",
    "logger.addHandler(ch)"
   ]
  },
  {
   "cell_type": "code",
   "execution_count": 3,
   "metadata": {},
   "outputs": [],
   "source": [
    "from modules.numerical import *"
   ]
  },
  {
   "cell_type": "code",
   "execution_count": 4,
   "metadata": {},
   "outputs": [
    {
     "data": {
      "text/plain": [
       "1250"
      ]
     },
     "execution_count": 4,
     "metadata": {},
     "output_type": "execute_result"
    }
   ],
   "source": [
    "from pathlib import Path\n",
    "\n",
    "class Config:\n",
    "    L = 50\n",
    "    N = int((5/4)*1000)\n",
    "    dx = 2*L/N\n",
    "    dt = 0.7*dx\n",
    "\n",
    "    x_lattice = Lattice(x=(-L, L, dx))\n",
    "    cm_index = x_lattice.at(x=0)\n",
    "    collider = KinkCollider(\n",
    "        x_lattice = x_lattice,\n",
    "        dt = dt\n",
    "    )\n",
    "\n",
    "    v_min = 0.05\n",
    "    v_max = 0.5\n",
    "    v_lims = (v_min, v_max)\n",
    "\n",
    "    lamb_min = 0.075\n",
    "    lamb_max = 50\n",
    "    lamb_lims = (lamb_min, lamb_max)\n",
    "\n",
    "    separation_by_delta = 10\n",
    "\n",
    "    save_dir = Path('data/new_dataset')\n",
    "    info_path = save_dir/'info.csv'\n",
    "\n",
    "Config.N"
   ]
  },
  {
   "cell_type": "code",
   "execution_count": 5,
   "metadata": {},
   "outputs": [],
   "source": [
    "def get_info():\n",
    "    if Config.info_path.exists():\n",
    "        info = pd.read_csv(Config.info_path).to_dict('list')\n",
    "    else:\n",
    "        info = {'lamb': [], 'exec_time': []}\n",
    "    return info\n",
    "\n",
    "def it_was_not_calculated(v, lamb):\n",
    "    return not len(tuple(Config.save_dir.glob(f'{v}-{lamb}-*.csv'))) > 0\n",
    "\n",
    "def init_collisions_queue(vs, lambs):\n",
    "    collisions_queue = mp.Queue()\n",
    "\n",
    "    info = get_info()\n",
    "    for lamb in lambs:\n",
    "        if lamb in info['lamb']:\n",
    "            vs = tuple(filter(partial(it_was_not_calculated, lamb=lamb), vs))\n",
    "        if len(vs):\n",
    "            collisions_queue.put({\n",
    "                'vs': vs,\n",
    "                'lamb': lamb\n",
    "            })\n",
    "\n",
    "    return collisions_queue\n",
    "\n",
    "def collider_task(collider, collisions_queue, output_queue):\n",
    "    while not collisions_queue.empty():\n",
    "        point = collisions_queue.get()\n",
    "        logger.debug('(%s) ~~ Iniciando colisões para lamb=%s'%(mp.current_process().name, point['lamb']))\n",
    "        local_t0 = time()\n",
    "        delta = np.sqrt(2/point['lamb'])\n",
    "        x0 = Config.separation_by_delta*delta/2\n",
    "\n",
    "        collisions = []\n",
    "        for v in point['vs']:\n",
    "            _t0 = time()\n",
    "            y = collider.collide(\n",
    "                x0s= (-x0, x0),\n",
    "                vs= (v, -v),\n",
    "                lamb= point['lamb'],\n",
    "                t_final= 2*x0/v + Config.L\n",
    "            )\n",
    "            _tf = time()\n",
    "            collisions.append({\n",
    "                'v': v,\n",
    "                'y': y,\n",
    "                'delay': _tf - _t0\n",
    "            })\n",
    "\n",
    "        local_tf = time()\n",
    "        output_queue.put({\n",
    "            'lamb': point['lamb'],\n",
    "            'exec_time': local_tf - local_t0,\n",
    "            'collisions': collisions\n",
    "        })\n",
    "\n",
    "def manager_task(collisions_queue, output_queue):\n",
    "    info = get_info()\n",
    "    total = collisions_queue.qsize()\n",
    "    received = 0\n",
    "    while received < total:\n",
    "        output = output_queue.get()\n",
    "        received += 1\n",
    "        logger.debug('({}) Salvando os resultados para lambda={} ({}%)'.format(\n",
    "            mp.current_process().name, \n",
    "            output['lamb'], \n",
    "            received/total * 100\n",
    "        ))\n",
    "\n",
    "        for collision in output['collisions']:\n",
    "            pd.DataFrame(collision['y']).to_csv(\n",
    "                Config.save_dir/'{v}-{lamb}-{delay}.csv'.format(\n",
    "                    lamb= output['lamb'], \n",
    "                    v= collision['v'], \n",
    "                    delay= collision['delay']\n",
    "                ),\n",
    "                index= False,\n",
    "                header= False\n",
    "            )\n",
    "        \n",
    "        if output['lamb'] in info['lamb']:\n",
    "            info['exec_time'][info['lamb'].index(output['lamb'])] = output['exec_time']\n",
    "        else:\n",
    "            info['lamb'].append(output['lamb'])\n",
    "            info['exec_time'].append(output['exec_time'])\n",
    "        pd.DataFrame(info).to_csv(Config.info_path, index=False)\n",
    "\n",
    "def init_session(n_processes, collisions_queue):\n",
    "    output_queue = mp.Queue()\n",
    "\n",
    "    logger.debug(f'({mp.current_process().name}) Iniciando {n_processes} + 1 processos...')\n",
    "    \n",
    "    manager = mp.Process(target=manager_task, args=(collisions_queue, output_queue))\n",
    "    manager.start()\n",
    "\n",
    "    processes = []\n",
    "    for _ in range(n_processes):\n",
    "        process = mp.Process(target=collider_task, args=(Config.collider, collisions_queue, output_queue))\n",
    "        process.start()\n",
    "        processes.append(process)\n",
    "    \n",
    "    for process in processes:\n",
    "        process.join()\n",
    "    manager.join()"
   ]
  },
  {
   "cell_type": "code",
   "execution_count": 6,
   "metadata": {},
   "outputs": [
    {
     "data": {
      "text/plain": [
       "7"
      ]
     },
     "execution_count": 6,
     "metadata": {},
     "output_type": "execute_result"
    }
   ],
   "source": [
    "P = mp.cpu_count() - 1\n",
    "P"
   ]
  },
  {
   "cell_type": "code",
   "execution_count": 7,
   "metadata": {},
   "outputs": [
    {
     "data": {
      "text/plain": [
       "array([0.05 , 0.125, 0.2  , 0.275, 0.35 , 0.425, 0.5  ])"
      ]
     },
     "execution_count": 7,
     "metadata": {},
     "output_type": "execute_result"
    }
   ],
   "source": [
    "V = np.linspace(*Config.v_lims, P)\n",
    "V"
   ]
  },
  {
   "cell_type": "code",
   "execution_count": 8,
   "metadata": {},
   "outputs": [
    {
     "data": {
      "text/plain": [
       "array([ 0.075     ,  8.39583333, 16.71666667, 25.0375    , 33.35833333,\n",
       "       41.67916667, 50.        ])"
      ]
     },
     "execution_count": 8,
     "metadata": {},
     "output_type": "execute_result"
    }
   ],
   "source": [
    "LAMB = np.linspace(*Config.lamb_lims, P)\n",
    "LAMB"
   ]
  },
  {
   "cell_type": "code",
   "execution_count": 10,
   "metadata": {},
   "outputs": [
    {
     "name": "stderr",
     "output_type": "stream",
     "text": [
      "[07/01/2024 - 00:48:25] (MainProcess) Iniciando 7 + 1 processos...\n"
     ]
    }
   ],
   "source": [
    "init_session(P, init_collisions_queue(V, LAMB))"
   ]
  },
  {
   "cell_type": "code",
   "execution_count": null,
   "metadata": {},
   "outputs": [],
   "source": []
  },
  {
   "cell_type": "code",
   "execution_count": null,
   "metadata": {},
   "outputs": [],
   "source": []
  },
  {
   "cell_type": "code",
   "execution_count": null,
   "metadata": {},
   "outputs": [],
   "source": []
  },
  {
   "cell_type": "code",
   "execution_count": null,
   "metadata": {},
   "outputs": [],
   "source": []
  },
  {
   "cell_type": "code",
   "execution_count": null,
   "metadata": {},
   "outputs": [],
   "source": []
  },
  {
   "cell_type": "code",
   "execution_count": null,
   "metadata": {},
   "outputs": [],
   "source": []
  },
  {
   "cell_type": "code",
   "execution_count": null,
   "metadata": {},
   "outputs": [],
   "source": []
  },
  {
   "cell_type": "code",
   "execution_count": null,
   "metadata": {},
   "outputs": [],
   "source": []
  },
  {
   "cell_type": "code",
   "execution_count": null,
   "metadata": {},
   "outputs": [],
   "source": []
  },
  {
   "cell_type": "code",
   "execution_count": null,
   "metadata": {},
   "outputs": [],
   "source": []
  },
  {
   "cell_type": "code",
   "execution_count": null,
   "metadata": {},
   "outputs": [],
   "source": [
    "import psutil\n",
    "import pandas as pd"
   ]
  },
  {
   "cell_type": "code",
   "execution_count": null,
   "metadata": {},
   "outputs": [
    {
     "name": "stdout",
     "output_type": "stream",
     "text": [
      "nvme\n",
      "       label  current      high  critical\n",
      "0  Composite    36.85     82.85     89.85\n",
      "1   Sensor 1    37.85  65261.85  65261.85\n",
      "2   Sensor 2    40.85  65261.85  65261.85\n",
      "iwlwifi_1\n",
      "  label  current  high critical\n",
      "0           44.0  None     None\n",
      "coretemp\n",
      "          label  current   high  critical\n",
      "0  Package id 0     51.0  100.0     100.0\n",
      "1        Core 0     51.0  100.0     100.0\n",
      "2        Core 1     51.0  100.0     100.0\n",
      "3        Core 2     51.0  100.0     100.0\n",
      "4        Core 3     51.0  100.0     100.0\n"
     ]
    }
   ],
   "source": [
    "for k, v in psutil.sensors_temperatures().items(): print(k); print(pd.DataFrame(v))"
   ]
  },
  {
   "cell_type": "code",
   "execution_count": 18,
   "metadata": {},
   "outputs": [
    {
     "data": {
      "text/plain": [
       "666.0"
      ]
     },
     "execution_count": 18,
     "metadata": {},
     "output_type": "execute_result"
    }
   ],
   "source": [
    "36*37/2"
   ]
  },
  {
   "cell_type": "markdown",
   "metadata": {},
   "source": [
    "Informações necessárias:\n",
    "\n",
    "Dado um algoritmo que construa o mosaico de forma gradual, aumentando a resolução para cada \n",
    "\n",
    "- Instante em que foi iniciado determinada sessão\n",
    "- Instante em que cada colisão foi iniciada\n",
    "- Instante em que cada colisão foi encerrada\n",
    "-   "
   ]
  }
 ],
 "metadata": {
  "kernelspec": {
   "display_name": ".env",
   "language": "python",
   "name": "python3"
  },
  "language_info": {
   "codemirror_mode": {
    "name": "ipython",
    "version": 3
   },
   "file_extension": ".py",
   "mimetype": "text/x-python",
   "name": "python",
   "nbconvert_exporter": "python",
   "pygments_lexer": "ipython3",
   "version": "3.11.5"
  }
 },
 "nbformat": 4,
 "nbformat_minor": 2
}
