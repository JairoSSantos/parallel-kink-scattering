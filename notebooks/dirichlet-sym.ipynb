{
 "cells": [
  {
   "cell_type": "code",
   "execution_count": 1,
   "metadata": {},
   "outputs": [],
   "source": [
    "import sympy as sp"
   ]
  },
  {
   "cell_type": "code",
   "execution_count": 18,
   "metadata": {},
   "outputs": [
    {
     "data": {
      "text/latex": [
       "$\\displaystyle \\left(- k^{2} + 3 i k \\tanh{\\left(x - x_{0} \\right)} + 3 \\tanh^{2}{\\left(x - x_{0} \\right)} - 1\\right) e^{- i k \\left(x - x_{0}\\right)}$"
      ],
      "text/plain": [
       "(-k**2 + 3*I*k*tanh(x - x_0) + 3*tanh(x - x_0)**2 - 1)*exp(-I*k*(x - x_0))"
      ]
     },
     "execution_count": 18,
     "metadata": {},
     "output_type": "execute_result"
    }
   ],
   "source": [
    "x, x0, k, H, g = sp.symbols('x, x_0, k, H, g', real=True)\n",
    "eta = sp.exp(-sp.I*k*(x - x0))*(-1 - k**2 + 3*sp.I*k*sp.tanh(x - x0) + 3*sp.tanh(x - x0)**2)\n",
    "eta"
   ]
  },
  {
   "cell_type": "code",
   "execution_count": 52,
   "metadata": {},
   "outputs": [
    {
     "data": {
      "text/plain": [
       "[-sqrt(-k**2/6 - sqrt(-3*k**4 - 12*k**2)/6 + 1/3),\n",
       " sqrt(-k**2/6 - sqrt(-3*k**4 - 12*k**2)/6 + 1/3),\n",
       " -sqrt(-k**2/6 + sqrt(-3*k**4 - 12*k**2)/6 + 1/3),\n",
       " sqrt(-k**2/6 + sqrt(-3*k**4 - 12*k**2)/6 + 1/3)]"
      ]
     },
     "execution_count": 52,
     "metadata": {},
     "output_type": "execute_result"
    }
   ],
   "source": [
    "sp.solve(abs(eta.subs({x:0}).subs({sp.tanh(x0):g})), g)"
   ]
  },
  {
   "cell_type": "code",
   "execution_count": 55,
   "metadata": {},
   "outputs": [
    {
     "data": {
      "text/latex": [
       "$\\displaystyle 3 k \\sin{\\left(k x_{0} \\right)} \\tanh{\\left(x_{0} \\right)} + \\left(- k^{2} + 3 \\tanh^{2}{\\left(x_{0} \\right)} - 1\\right) \\cos{\\left(k x_{0} \\right)}$"
      ],
      "text/plain": [
       "3*k*sin(k*x_0)*tanh(x_0) + (-k**2 + 3*tanh(x_0)**2 - 1)*cos(k*x_0)"
      ]
     },
     "execution_count": 55,
     "metadata": {},
     "output_type": "execute_result"
    }
   ],
   "source": [
    "sp.re(eta.subs({x:0}))"
   ]
  },
  {
   "cell_type": "code",
   "execution_count": 40,
   "metadata": {},
   "outputs": [
    {
     "data": {
      "text/latex": [
       "$\\displaystyle 3 k \\sin{\\left(k x_{0} \\right)} \\tanh{\\left(x_{0} \\right)} + \\left(- k^{2} + 3 \\tanh^{2}{\\left(x_{0} \\right)} - 1\\right) \\cos{\\left(k x_{0} \\right)}$"
      ],
      "text/plain": [
       "3*k*sin(k*x_0)*tanh(x_0) + (-k**2 + 3*tanh(x_0)**2 - 1)*cos(k*x_0)"
      ]
     },
     "execution_count": 40,
     "metadata": {},
     "output_type": "execute_result"
    }
   ],
   "source": [
    "sp.re(eta.subs({x:0}))"
   ]
  },
  {
   "cell_type": "code",
   "execution_count": 15,
   "metadata": {},
   "outputs": [
    {
     "data": {
      "text/latex": [
       "$\\displaystyle - \\frac{k \\tan{\\left(k \\operatorname{re}{\\left(\\operatorname{atanh}{\\left(g \\right)}\\right)} \\right)}}{2} - \\frac{\\sqrt{3 k^{2} \\cos^{2}{\\left(k \\operatorname{re}{\\left(\\operatorname{atanh}{\\left(g \\right)}\\right)} \\right)} + 9 k^{2} + 12 \\cos^{2}{\\left(k \\operatorname{re}{\\left(\\operatorname{atanh}{\\left(g \\right)}\\right)} \\right)}}}{6 \\cos{\\left(k \\operatorname{re}{\\left(\\operatorname{atanh}{\\left(g \\right)}\\right)} \\right)}}$"
      ],
      "text/plain": [
       "-k*tan(k*re(atanh(g)))/2 - sqrt(3*k**2*cos(k*re(atanh(g)))**2 + 9*k**2 + 12*cos(k*re(atanh(g)))**2)/(6*cos(k*re(atanh(g))))"
      ]
     },
     "execution_count": 15,
     "metadata": {},
     "output_type": "execute_result"
    }
   ],
   "source": [
    "v1"
   ]
  },
  {
   "cell_type": "code",
   "execution_count": 16,
   "metadata": {},
   "outputs": [
    {
     "data": {
      "text/latex": [
       "$\\displaystyle - \\frac{k \\tan{\\left(k \\operatorname{re}{\\left(\\operatorname{atanh}{\\left(g \\right)}\\right)} \\right)}}{2} + \\frac{\\sqrt{3 k^{2} \\cos^{2}{\\left(k \\operatorname{re}{\\left(\\operatorname{atanh}{\\left(g \\right)}\\right)} \\right)} + 9 k^{2} + 12 \\cos^{2}{\\left(k \\operatorname{re}{\\left(\\operatorname{atanh}{\\left(g \\right)}\\right)} \\right)}}}{6 \\cos{\\left(k \\operatorname{re}{\\left(\\operatorname{atanh}{\\left(g \\right)}\\right)} \\right)}}$"
      ],
      "text/plain": [
       "-k*tan(k*re(atanh(g)))/2 + sqrt(3*k**2*cos(k*re(atanh(g)))**2 + 9*k**2 + 12*cos(k*re(atanh(g)))**2)/(6*cos(k*re(atanh(g))))"
      ]
     },
     "execution_count": 16,
     "metadata": {},
     "output_type": "execute_result"
    }
   ],
   "source": [
    "v2"
   ]
  },
  {
   "cell_type": "code",
   "execution_count": null,
   "metadata": {},
   "outputs": [],
   "source": [
    "sp.plot(v1)"
   ]
  }
 ],
 "metadata": {
  "kernelspec": {
   "display_name": ".env",
   "language": "python",
   "name": "python3"
  },
  "language_info": {
   "codemirror_mode": {
    "name": "ipython",
    "version": 3
   },
   "file_extension": ".py",
   "mimetype": "text/x-python",
   "name": "python",
   "nbconvert_exporter": "python",
   "pygments_lexer": "ipython3",
   "version": "3.11.5"
  }
 },
 "nbformat": 4,
 "nbformat_minor": 2
}
