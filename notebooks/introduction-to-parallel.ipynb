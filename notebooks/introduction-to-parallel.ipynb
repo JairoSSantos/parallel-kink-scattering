{
 "cells": [
  {
   "cell_type": "markdown",
   "metadata": {},
   "source": [
    "# Introduction to threading"
   ]
  },
  {
   "cell_type": "code",
   "execution_count": 1,
   "metadata": {},
   "outputs": [],
   "source": [
    "import numpy as np\n",
    "import matplotlib.pyplot as plt\n",
    "import time\n",
    "import threading as th"
   ]
  },
  {
   "cell_type": "markdown",
   "metadata": {},
   "source": [
    "## Threading the mapping of lists\n",
    "\n",
    "Creating a simple algorithm that maps a list in parallel, generating a thread for each element in the list."
   ]
  },
  {
   "cell_type": "code",
   "execution_count": 77,
   "metadata": {},
   "outputs": [],
   "source": [
    "def run(function, input_list, verbose=True):\n",
    "    threads = []\n",
    "    start = time.time()\n",
    "    for val in input_list:\n",
    "        threads.append(th.Thread(target=function, daemon=True, args=[val]))\n",
    "        threads[-1].start()\n",
    "        if verbose: print(f'Starting [{threads[-1].name}] - x: {val}')\n",
    "    output_list = []\n",
    "    for thread in threads:\n",
    "        output_list.append(thread.join())\n",
    "        stop = time.time()\n",
    "        if verbose: print(f'Finishing [{thread.name}] - y: {output_list[-1]} - elapsed time: {(stop-start):.2f} s')\n",
    "    return output_list"
   ]
  },
  {
   "cell_type": "markdown",
   "metadata": {},
   "source": [
    "### Sleep exemple"
   ]
  },
  {
   "cell_type": "code",
   "execution_count": 79,
   "metadata": {},
   "outputs": [
    {
     "name": "stdout",
     "output_type": "stream",
     "text": [
      "Starting [Thread-143 (sleep)] - x: 10\n",
      "Starting [Thread-144 (sleep)] - x: 15\n",
      "Starting [Thread-145 (sleep)] - x: 20\n",
      "Starting [Thread-146 (sleep)] - x: 30\n",
      "Finishing [Thread-143 (sleep)] - y: None - elapsed time: 10.00 s\n",
      "Finishing [Thread-144 (sleep)] - y: None - elapsed time: 15.00 s\n",
      "Finishing [Thread-145 (sleep)] - y: None - elapsed time: 20.00 s\n",
      "Finishing [Thread-146 (sleep)] - y: None - elapsed time: 30.00 s\n",
      "CPU times: user 9.07 ms, sys: 0 ns, total: 9.07 ms\n",
      "Wall time: 30 s\n"
     ]
    },
    {
     "data": {
      "text/plain": [
       "[None, None, None, None]"
      ]
     },
     "execution_count": 79,
     "metadata": {},
     "output_type": "execute_result"
    }
   ],
   "source": [
    "%%time\n",
    "x = [10, 15, 20, 30]\n",
    "run(time.sleep, x, verbose=True)"
   ]
  },
  {
   "cell_type": "code",
   "execution_count": 80,
   "metadata": {},
   "outputs": [
    {
     "name": "stdout",
     "output_type": "stream",
     "text": [
      "CPU times: user 474 µs, sys: 3.92 ms, total: 4.4 ms\n",
      "Wall time: 1min 15s\n"
     ]
    },
    {
     "data": {
      "text/plain": [
       "{10: None, 15: None, 20: None, 30: None}"
      ]
     },
     "execution_count": 80,
     "metadata": {},
     "output_type": "execute_result"
    }
   ],
   "source": [
    "%%time\n",
    "{val: time.sleep(val) for val in x}"
   ]
  },
  {
   "cell_type": "code",
   "execution_count": null,
   "metadata": {},
   "outputs": [],
   "source": []
  }
 ],
 "metadata": {
  "kernelspec": {
   "display_name": "Python 3",
   "language": "python",
   "name": "python3"
  },
  "language_info": {
   "codemirror_mode": {
    "name": "ipython",
    "version": 3
   },
   "file_extension": ".py",
   "mimetype": "text/x-python",
   "name": "python",
   "nbconvert_exporter": "python",
   "pygments_lexer": "ipython3",
   "version": "3.11.5"
  },
  "orig_nbformat": 4
 },
 "nbformat": 4,
 "nbformat_minor": 2
}
