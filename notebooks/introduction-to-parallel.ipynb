{
 "cells": [
  {
   "cell_type": "markdown",
   "metadata": {},
   "source": [
    "# Introduction to some forms of parallelism"
   ]
  },
  {
   "cell_type": "code",
   "execution_count": 29,
   "metadata": {},
   "outputs": [],
   "source": [
    "import numpy as np\n",
    "import matplotlib.pyplot as plt\n",
    "import time\n",
    "import threading as th"
   ]
  },
  {
   "cell_type": "markdown",
   "metadata": {},
   "source": [
    "## Fibonacci sequence"
   ]
  },
  {
   "cell_type": "markdown",
   "metadata": {},
   "source": [
    "$$\n",
    "F_n = \\left\\{\n",
    "    \\begin{array}{rl}\n",
    "        0, & n = 0\\\\\n",
    "        1, & n = 1\\\\\n",
    "        F_{n - 1} + F_{n - 2}, & n > 1\n",
    "    \\end{array}\n",
    "\\right.\n",
    "$$"
   ]
  },
  {
   "cell_type": "code",
   "execution_count": 4,
   "metadata": {},
   "outputs": [],
   "source": [
    "def fibonacci(n: int):\n",
    "    if n == 0 or n == 1:\n",
    "        return n\n",
    "    else:\n",
    "        return fibonacci(n-1) + fibonacci(n-2)"
   ]
  },
  {
   "cell_type": "code",
   "execution_count": 14,
   "metadata": {},
   "outputs": [],
   "source": [
    "from queue import Queue\n",
    "\n",
    "class FibonacciParallel:\n",
    "    def __init__(self, n_threads: int):\n",
    "        self.n_threads = n_threads\n",
    "\n",
    "    def run(self, input_list: list|tuple):\n",
    "        self.input_list = input_list\n",
    "        self.fibo_dict = {}\n",
    "        self.shared_queue = Queue()\n",
    "        self.condition = th.Condition()\n",
    "        self.threads = []\n",
    "        for _ in range(self.n_threads):\n",
    "            self.threads.append(th.Thread(daemon=True, target=self.__fibonacci_task))\n",
    "            self.threads[-1].start()\n",
    "        th.Thread(name='queue_task_thread', daemon=True, target=self.__queue_task).start()\n",
    "        for thread in self.threads: thread.join()\n",
    "\n",
    "    def __fibonacci_task(self):\n",
    "        print('starting queue_task...')\n",
    "        with self.condition:\n",
    "            while self.shared_queue.empty():\n",
    "                self.condition.wait()\n",
    "                print(f'[{th.current_thread().name}] - waiting for elements in queue...')\n",
    "            else:\n",
    "                value = self.shared_queue.get()\n",
    "                self.fibo_dict[value] = fibonacci(value)\n",
    "            self.shared_queue.task_done()\n",
    "            print(f'[{th.current_thread().name}] - fibonacci of key {value} with result {self.fibo_dict[value]}')\n",
    "    \n",
    "    def __queue_task(self):\n",
    "        print('Starting queue_task...')\n",
    "        with self.condition:\n",
    "            for item in self.input_list:\n",
    "                self.shared_queue.put(item)\n",
    "                print('Notifying fibonacci_task threads that queue is ready to consume...')\n",
    "                self.condition.notify_all()"
   ]
  },
  {
   "cell_type": "code",
   "execution_count": 26,
   "metadata": {},
   "outputs": [],
   "source": [
    "x = [30, 32, 36, 38, 40]\n",
    "fibo = FibonacciParallel(4)"
   ]
  },
  {
   "cell_type": "code",
   "execution_count": 27,
   "metadata": {},
   "outputs": [
    {
     "name": "stdout",
     "output_type": "stream",
     "text": [
      "starting queue_task...\n",
      "starting queue_task...\n",
      "starting queue_task...\n",
      "starting queue_task...\n",
      "Starting queue_task...\n",
      "Notifying fibonacci_task threads that queue is ready to consume...\n",
      "Notifying fibonacci_task threads that queue is ready to consume...\n",
      "Notifying fibonacci_task threads that queue is ready to consume...\n",
      "Notifying fibonacci_task threads that queue is ready to consume...\n",
      "Notifying fibonacci_task threads that queue is ready to consume...\n",
      "[Thread-40 (__fibonacci_task)] - waiting for elements in queue...\n",
      "[Thread-40 (__fibonacci_task)] - fibonacci of key 30 with result 832040\n",
      "[Thread-42 (__fibonacci_task)] - waiting for elements in queue...\n",
      "[Thread-42 (__fibonacci_task)] - fibonacci of key 32 with result 2178309\n",
      "[Thread-41 (__fibonacci_task)] - waiting for elements in queue...\n",
      "[Thread-41 (__fibonacci_task)] - fibonacci of key 36 with result 14930352\n",
      "[Thread-43 (__fibonacci_task)] - waiting for elements in queue...\n",
      "[Thread-43 (__fibonacci_task)] - fibonacci of key 38 with result 39088169\n",
      "CPU times: user 8.27 s, sys: 0 ns, total: 8.27 s\n",
      "Wall time: 8.27 s\n"
     ]
    },
    {
     "data": {
      "text/plain": [
       "{30: 832040, 32: 2178309, 36: 14930352, 38: 39088169}"
      ]
     },
     "execution_count": 27,
     "metadata": {},
     "output_type": "execute_result"
    }
   ],
   "source": [
    "%%time\n",
    "fibo.run(x)\n",
    "fibo.fibo_dict"
   ]
  },
  {
   "cell_type": "code",
   "execution_count": 28,
   "metadata": {},
   "outputs": [
    {
     "name": "stdout",
     "output_type": "stream",
     "text": [
      "CPU times: user 23.9 s, sys: 0 ns, total: 23.9 s\n",
      "Wall time: 23.9 s\n"
     ]
    },
    {
     "data": {
      "text/plain": [
       "{30: 832040, 32: 2178309, 36: 14930352, 38: 39088169, 40: 102334155}"
      ]
     },
     "execution_count": 28,
     "metadata": {},
     "output_type": "execute_result"
    }
   ],
   "source": [
    "%%time\n",
    "{val: fibonacci(val) for val in x}"
   ]
  },
  {
   "cell_type": "code",
   "execution_count": null,
   "metadata": {},
   "outputs": [],
   "source": []
  }
 ],
 "metadata": {
  "kernelspec": {
   "display_name": "Python 3",
   "language": "python",
   "name": "python3"
  },
  "language_info": {
   "codemirror_mode": {
    "name": "ipython",
    "version": 3
   },
   "file_extension": ".py",
   "mimetype": "text/x-python",
   "name": "python",
   "nbconvert_exporter": "python",
   "pygments_lexer": "ipython3",
   "version": "3.11.5"
  },
  "orig_nbformat": 4
 },
 "nbformat": 4,
 "nbformat_minor": 2
}
